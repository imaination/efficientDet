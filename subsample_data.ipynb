{
 "cells": [
  {
   "cell_type": "code",
   "execution_count": 1,
   "id": "7c45dd90",
   "metadata": {},
   "outputs": [],
   "source": [
    "import matplotlib.pyplot as plt\n",
    "import shutil\n",
    "import random\n",
    "import os\n"
   ]
  },
  {
   "cell_type": "code",
   "execution_count": 2,
   "id": "6e3c3026",
   "metadata": {},
   "outputs": [],
   "source": [
    "# select subsample of N for initial training\n",
    "# determine number for the sample\n",
    "N = 300\n",
    "# create directory for the sample\n",
    "sub_dir = 'image_subset/'\n",
    "!mkdir {sub_dir}\n"
   ]
  },
  {
   "cell_type": "code",
   "execution_count": 3,
   "id": "aaae268e",
   "metadata": {},
   "outputs": [],
   "source": [
    "# randomly select NUM subsample of png images\n",
    "image_dir = 'images/'\n",
    "image_paths = os.listdir(image_dir)\n",
    "png_file_path = random.sample(image_paths, N) \n"
   ]
  },
  {
   "cell_type": "code",
   "execution_count": 4,
   "id": "73c9f9a4",
   "metadata": {},
   "outputs": [],
   "source": [
    "# copy subsample into subsample directory and rename to simpler file names..\n",
    "for idx, png in enumerate(png_file_path):\n",
    "    shutil.move(image_dir + png, sub_dir + f'{idx+1:05d}.png')\n",
    "    "
   ]
  }
 ],
 "metadata": {
  "kernelspec": {
   "display_name": "Python 3 (ipykernel)",
   "language": "python",
   "name": "python3"
  },
  "language_info": {
   "codemirror_mode": {
    "name": "ipython",
    "version": 3
   },
   "file_extension": ".py",
   "mimetype": "text/x-python",
   "name": "python",
   "nbconvert_exporter": "python",
   "pygments_lexer": "ipython3",
   "version": "3.8.13"
  },
  "toc": {
   "base_numbering": 1,
   "nav_menu": {},
   "number_sections": true,
   "sideBar": true,
   "skip_h1_title": false,
   "title_cell": "Table of Contents",
   "title_sidebar": "Contents",
   "toc_cell": false,
   "toc_position": {},
   "toc_section_display": true,
   "toc_window_display": false
  },
  "varInspector": {
   "cols": {
    "lenName": 16,
    "lenType": 16,
    "lenVar": 40
   },
   "kernels_config": {
    "python": {
     "delete_cmd_postfix": "",
     "delete_cmd_prefix": "del ",
     "library": "var_list.py",
     "varRefreshCmd": "print(var_dic_list())"
    },
    "r": {
     "delete_cmd_postfix": ") ",
     "delete_cmd_prefix": "rm(",
     "library": "var_list.r",
     "varRefreshCmd": "cat(var_dic_list()) "
    }
   },
   "types_to_exclude": [
    "module",
    "function",
    "builtin_function_or_method",
    "instance",
    "_Feature"
   ],
   "window_display": false
  }
 },
 "nbformat": 4,
 "nbformat_minor": 5
}
