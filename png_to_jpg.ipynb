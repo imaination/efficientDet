{
 "cells": [
  {
   "cell_type": "code",
   "execution_count": 1,
   "id": "e3a42c06",
   "metadata": {},
   "outputs": [],
   "source": [
    "from PIL import Image\n",
    "import os"
   ]
  },
  {
   "cell_type": "code",
   "execution_count": 2,
   "id": "eedc954f",
   "metadata": {},
   "outputs": [],
   "source": [
    "path_image_subset = './image_subset/'\n",
    "filelist= [file for file in os.listdir(path_image_subset) if file.endswith('.png')] #change here"
   ]
  },
  {
   "cell_type": "code",
   "execution_count": 3,
   "id": "952e9364",
   "metadata": {},
   "outputs": [],
   "source": [
    "for file in filelist:\n",
    "    root_name = file[:-4]\n",
    "    jpg = root_name + '.jpg'\n",
    "    \n",
    "    #open image in png format\n",
    "    img_png = Image.open(path_image_subset + file)\n",
    "    \n",
    "    #The image object is used to save the image in jpg format\n",
    "    img_png.save(path_image_subset + jpg)"
   ]
  },
  {
   "cell_type": "code",
   "execution_count": 5,
   "id": "fe48d89e",
   "metadata": {},
   "outputs": [],
   "source": [
    "#remove png files\n",
    "for file in filelist:\n",
    "    os.remove(path_image_subset + file)"
   ]
  },
  {
   "cell_type": "code",
   "execution_count": null,
   "id": "8e3dfac6",
   "metadata": {},
   "outputs": [],
   "source": []
  }
 ],
 "metadata": {
  "kernelspec": {
   "display_name": "Python 3 (ipykernel)",
   "language": "python",
   "name": "python3"
  },
  "language_info": {
   "codemirror_mode": {
    "name": "ipython",
    "version": 3
   },
   "file_extension": ".py",
   "mimetype": "text/x-python",
   "name": "python",
   "nbconvert_exporter": "python",
   "pygments_lexer": "ipython3",
   "version": "3.8.13"
  },
  "toc": {
   "base_numbering": 1,
   "nav_menu": {},
   "number_sections": true,
   "sideBar": true,
   "skip_h1_title": false,
   "title_cell": "Table of Contents",
   "title_sidebar": "Contents",
   "toc_cell": false,
   "toc_position": {},
   "toc_section_display": true,
   "toc_window_display": false
  },
  "varInspector": {
   "cols": {
    "lenName": 16,
    "lenType": 16,
    "lenVar": 40
   },
   "kernels_config": {
    "python": {
     "delete_cmd_postfix": "",
     "delete_cmd_prefix": "del ",
     "library": "var_list.py",
     "varRefreshCmd": "print(var_dic_list())"
    },
    "r": {
     "delete_cmd_postfix": ") ",
     "delete_cmd_prefix": "rm(",
     "library": "var_list.r",
     "varRefreshCmd": "cat(var_dic_list()) "
    }
   },
   "types_to_exclude": [
    "module",
    "function",
    "builtin_function_or_method",
    "instance",
    "_Feature"
   ],
   "window_display": false
  }
 },
 "nbformat": 4,
 "nbformat_minor": 5
}
